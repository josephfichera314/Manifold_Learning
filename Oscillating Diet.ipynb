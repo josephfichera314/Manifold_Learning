{
 "cells": [
  {
   "cell_type": "code",
   "execution_count": 291,
   "id": "71357b08",
   "metadata": {},
   "outputs": [
    {
     "name": "stdout",
     "output_type": "stream",
     "text": [
      "dict_keys(['__header__', '__version__', '__globals__', 'ctax', 'ftax', 'gtax', 'osc1a', 'osc1a_days', 'osc1a_diets', 'osc1a_samples', 'osc1b', 'osc1b_days', 'osc1b_diets', 'osc1b_samples', 'osc1c', 'osc1c_days', 'osc1c_diets', 'osc1c_samples', 'osc1d', 'osc1d_days', 'osc1d_diets', 'osc1d_samples', 'osc1e', 'osc1e_days', 'osc1e_diets', 'osc1e_samples', 'osc2a', 'osc2a_days', 'osc2a_diets', 'osc2a_samples', 'osc2b', 'osc2b_days', 'osc2b_diets', 'osc2b_samples', 'osc2c', 'osc2c_days', 'osc2c_diets', 'osc2d', 'osc2d_days', 'osc2d_diets', 'osc2d_samples', 'otax', 'otu_ids', 'ptax', 'tax'])\n",
      "{'__header__': b'MATLAB 5.0 MAT-file, Platform: MACI64, Created on: Mon Apr  6 16:50:59 2020', '__version__': '1.0', '__globals__': [], 'ctax': array([[array(['Bacteroidia'], dtype='<U11')],\n",
      "       [array(['Bacteroidia'], dtype='<U11')],\n",
      "       [array(['Bacilli'], dtype='<U7')],\n",
      "       ...,\n",
      "       [array(['Clostridia'], dtype='<U10')],\n",
      "       [array(['Clostridia'], dtype='<U10')],\n",
      "       [array(['Clostridia'], dtype='<U10')]], dtype=object), 'ftax': array([[array(['Marinilabiliaceae'], dtype='<U17')],\n",
      "       [array(['Marinilabiliaceae'], dtype='<U17')],\n",
      "       [array(['Lactobacillaceae'], dtype='<U16')],\n",
      "       ...,\n",
      "       [array(['Lachnospiraceae'], dtype='<U15')],\n",
      "       [array(['Lachnospiraceae'], dtype='<U15')],\n",
      "       [array(['Lachnospiraceae'], dtype='<U15')]], dtype=object), 'gtax': array([[array(['Saccharicrinis'], dtype='<U14')],\n",
      "       [array(['Saccharicrinis'], dtype='<U14')],\n",
      "       [array(['Lactobacillus'], dtype='<U13')],\n",
      "       ...,\n",
      "       [array(['Parasporobacterium'], dtype='<U18')],\n",
      "       [array(['Hespellia'], dtype='<U9')],\n",
      "       [array(['Acetatifactor'], dtype='<U13')]], dtype=object), 'osc1a': array([[ 8027, 14530,  8474, ...,  2856,  6920,  5979],\n",
      "       [11098,  4472, 10399, ...,   474,  1869,  4592],\n",
      "       [  819,   243,   641, ...,    14,   451,  2294],\n",
      "       ...,\n",
      "       [    0,     0,     0, ...,     0,     0,     0],\n",
      "       [    0,     0,     0, ...,     0,     0,     0],\n",
      "       [    0,     0,     0, ...,     0,     0,     0]], dtype=uint16), 'osc1a_days': array([[-4, -3, -2, -1,  0,  1,  2,  3,  4,  5,  6,  7,  8,  9, 10, 11,\n",
      "        12, 13, 14, 15, 16, 17, 18, 19, 20, 21, 22, 23, 24, 25, 26, 27,\n",
      "        28, 29, 30, 32, 33]], dtype=int16), 'osc1a_diets': array([[array(['LFPP'], dtype='<U4')],\n",
      "       [array(['LFPP'], dtype='<U4')],\n",
      "       [array(['LFPP'], dtype='<U4')],\n",
      "       [array(['LFPP'], dtype='<U4')],\n",
      "       [array(['LFPP'], dtype='<U4')],\n",
      "       [array(['HFHS'], dtype='<U4')],\n",
      "       [array(['HFHS'], dtype='<U4')],\n",
      "       [array(['HFHS'], dtype='<U4')],\n",
      "       [array(['LFPP'], dtype='<U4')],\n",
      "       [array(['LFPP'], dtype='<U4')],\n",
      "       [array(['LFPP'], dtype='<U4')],\n",
      "       [array(['HFHS'], dtype='<U4')],\n",
      "       [array(['HFHS'], dtype='<U4')],\n",
      "       [array(['HFHS'], dtype='<U4')],\n",
      "       [array(['LFPP'], dtype='<U4')],\n",
      "       [array(['LFPP'], dtype='<U4')],\n",
      "       [array(['LFPP'], dtype='<U4')],\n",
      "       [array(['HFHS'], dtype='<U4')],\n",
      "       [array(['HFHS'], dtype='<U4')],\n",
      "       [array(['HFHS'], dtype='<U4')],\n",
      "       [array(['LFPP'], dtype='<U4')],\n",
      "       [array(['LFPP'], dtype='<U4')],\n",
      "       [array(['LFPP'], dtype='<U4')],\n",
      "       [array(['HFHS'], dtype='<U4')],\n",
      "       [array(['HFHS'], dtype='<U4')],\n",
      "       [array(['HFHS'], dtype='<U4')],\n",
      "       [array(['LFPP'], dtype='<U4')],\n",
      "       [array(['LFPP'], dtype='<U4')],\n",
      "       [array(['LFPP'], dtype='<U4')],\n",
      "       [array(['HFHS'], dtype='<U4')],\n",
      "       [array(['HFHS'], dtype='<U4')],\n",
      "       [array(['HFHS'], dtype='<U4')],\n",
      "       [array(['HFHS'], dtype='<U4')],\n",
      "       [array(['HFHS'], dtype='<U4')],\n",
      "       [array(['HFHS'], dtype='<U4')],\n",
      "       [array(['HFHS'], dtype='<U4')],\n",
      "       [array(['HFHS'], dtype='<U4')]], dtype=object), 'osc1a_samples': array([[array(['DOSC4'], dtype='<U5')],\n",
      "       [array(['DOSC19'], dtype='<U6')],\n",
      "       [array(['DOSC34'], dtype='<U6')],\n",
      "       [array(['DOSC271'], dtype='<U7')],\n",
      "       [array(['DOSC286'], dtype='<U7')],\n",
      "       [array(['DOSC301'], dtype='<U7')],\n",
      "       [array(['DOSC316'], dtype='<U7')],\n",
      "       [array(['DOSC331'], dtype='<U7')],\n",
      "       [array(['DOSC346'], dtype='<U7')],\n",
      "       [array(['DOSC49'], dtype='<U6')],\n",
      "       [array(['DOSC64'], dtype='<U6')],\n",
      "       [array(['DOSC78'], dtype='<U6')],\n",
      "       [array(['DOSC93'], dtype='<U6')],\n",
      "       [array(['DOSC108'], dtype='<U7')],\n",
      "       [array(['DOSC122'], dtype='<U7')],\n",
      "       [array(['DOSC361'], dtype='<U7')],\n",
      "       [array(['DOSC375'], dtype='<U7')],\n",
      "       [array(['DOSC390'], dtype='<U7')],\n",
      "       [array(['DOSC405'], dtype='<U7')],\n",
      "       [array(['DOSC420'], dtype='<U7')],\n",
      "       [array(['DOSC435'], dtype='<U7')],\n",
      "       [array(['DOSC136'], dtype='<U7')],\n",
      "       [array(['DOSC151'], dtype='<U7')],\n",
      "       [array(['DOSC163'], dtype='<U7')],\n",
      "       [array(['DOSC176'], dtype='<U7')],\n",
      "       [array(['DOSC191'], dtype='<U7')],\n",
      "       [array(['DOSC206'], dtype='<U7')],\n",
      "       [array(['DOSC450'], dtype='<U7')],\n",
      "       [array(['DOSC465'], dtype='<U7')],\n",
      "       [array(['DOSC480'], dtype='<U7')],\n",
      "       [array(['DOSC493'], dtype='<U7')],\n",
      "       [array(['DOSC220'], dtype='<U7')],\n",
      "       [array(['DOSC235'], dtype='<U7')],\n",
      "       [array(['DOSC250'], dtype='<U7')],\n",
      "       [array(['DOSC263'], dtype='<U7')],\n",
      "       [array(['DOSC514'], dtype='<U7')],\n",
      "       [array(['DOSC527'], dtype='<U7')]], dtype=object), 'osc1b': array([[ 6512,  8120, 10371, ...,  5318,  5041,  6848],\n",
      "       [ 9895,  7938,  3703, ...,  2868,  3729,  4768],\n",
      "       [ 2059,  1205,   496, ...,  1465,   757,    64],\n",
      "       ...,\n",
      "       [    0,     0,     0, ...,     0,     0,     0],\n",
      "       [    0,     0,     0, ...,     0,     0,     0],\n",
      "       [    0,     0,     0, ...,     0,     0,     0]], dtype=uint16), 'osc1b_days': array([[-4, -3, -2, -1,  0,  1,  2,  3,  4,  5,  6,  7,  8, 10, 11, 12,\n",
      "        13, 14, 15, 16, 17, 18, 20, 21, 22, 23, 24, 25, 26, 27, 28, 29,\n",
      "        30, 32, 33]], dtype=int16), 'osc1b_diets': array([[array(['LFPP'], dtype='<U4')],\n",
      "       [array(['LFPP'], dtype='<U4')],\n",
      "       [array(['LFPP'], dtype='<U4')],\n",
      "       [array(['LFPP'], dtype='<U4')],\n",
      "       [array(['LFPP'], dtype='<U4')],\n",
      "       [array(['HFHS'], dtype='<U4')],\n",
      "       [array(['HFHS'], dtype='<U4')],\n",
      "       [array(['HFHS'], dtype='<U4')],\n",
      "       [array(['LFPP'], dtype='<U4')],\n",
      "       [array(['LFPP'], dtype='<U4')],\n",
      "       [array(['LFPP'], dtype='<U4')],\n",
      "       [array(['HFHS'], dtype='<U4')],\n",
      "       [array(['HFHS'], dtype='<U4')],\n",
      "       [array(['LFPP'], dtype='<U4')],\n",
      "       [array(['LFPP'], dtype='<U4')],\n",
      "       [array(['LFPP'], dtype='<U4')],\n",
      "       [array(['HFHS'], dtype='<U4')],\n",
      "       [array(['HFHS'], dtype='<U4')],\n",
      "       [array(['HFHS'], dtype='<U4')],\n",
      "       [array(['LFPP'], dtype='<U4')],\n",
      "       [array(['LFPP'], dtype='<U4')],\n",
      "       [array(['LFPP'], dtype='<U4')],\n",
      "       [array(['HFHS'], dtype='<U4')],\n",
      "       [array(['HFHS'], dtype='<U4')],\n",
      "       [array(['LFPP'], dtype='<U4')],\n",
      "       [array(['LFPP'], dtype='<U4')],\n",
      "       [array(['LFPP'], dtype='<U4')],\n",
      "       [array(['HFHS'], dtype='<U4')],\n",
      "       [array(['HFHS'], dtype='<U4')],\n",
      "       [array(['HFHS'], dtype='<U4')],\n",
      "       [array(['HFHS'], dtype='<U4')],\n",
      "       [array(['HFHS'], dtype='<U4')],\n",
      "       [array(['HFHS'], dtype='<U4')],\n",
      "       [array(['HFHS'], dtype='<U4')],\n",
      "       [array(['HFHS'], dtype='<U4')]], dtype=object), 'osc1b_samples': array([[array(['DOSC6'], dtype='<U5')],\n",
      "       [array(['DOSC21'], dtype='<U6')],\n",
      "       [array(['DOSC36'], dtype='<U6')],\n",
      "       [array(['DOSC273'], dtype='<U7')],\n",
      "       [array(['DOSC288'], dtype='<U7')],\n",
      "       [array(['DOSC303'], dtype='<U7')],\n",
      "       [array(['DOSC318'], dtype='<U7')],\n",
      "       [array(['DOSC333'], dtype='<U7')],\n",
      "       [array(['DOSC348'], dtype='<U7')],\n",
      "       [array(['DOSC51'], dtype='<U6')],\n",
      "       [array(['DOSC66'], dtype='<U6')],\n",
      "       [array(['DOSC80'], dtype='<U6')],\n",
      "       [array(['DOSC95'], dtype='<U6')],\n",
      "       [array(['DOSC124'], dtype='<U7')],\n",
      "       [array(['DOSC363'], dtype='<U7')],\n",
      "       [array(['DOSC377'], dtype='<U7')],\n",
      "       [array(['DOSC392'], dtype='<U7')],\n",
      "       [array(['DOSC407'], dtype='<U7')],\n",
      "       [array(['DOSC422'], dtype='<U7')],\n",
      "       [array(['DOSC437'], dtype='<U7')],\n",
      "       [array(['DOSC138'], dtype='<U7')],\n",
      "       [array(['DOSC153'], dtype='<U7')],\n",
      "       [array(['DOSC178'], dtype='<U7')],\n",
      "       [array(['DOSC193'], dtype='<U7')],\n",
      "       [array(['DOSC208'], dtype='<U7')],\n",
      "       [array(['DOSC452'], dtype='<U7')],\n",
      "       [array(['DOSC467'], dtype='<U7')],\n",
      "       [array(['DOSC482'], dtype='<U7')],\n",
      "       [array(['DOSC495'], dtype='<U7')],\n",
      "       [array(['DOSC222'], dtype='<U7')],\n",
      "       [array(['DOSC237'], dtype='<U7')],\n",
      "       [array(['DOSC252'], dtype='<U7')],\n",
      "       [array(['DOSC506'], dtype='<U7')],\n",
      "       [array(['DOSC516'], dtype='<U7')],\n",
      "       [array(['DOSC528'], dtype='<U7')]], dtype=object), 'osc1c': array([[ 7874,  7489,  4741, ...,  9281,  8351,  7470],\n",
      "       [ 7216, 10760,  9387, ...,  2598,  2987,  4832],\n",
      "       [  216,   784,   884, ...,  1027,   340,    53],\n",
      "       ...,\n",
      "       [    0,     0,     0, ...,     0,     0,     0],\n",
      "       [    0,     0,     0, ...,     0,     0,     0],\n",
      "       [    0,     0,     0, ...,     0,     0,     0]], dtype=uint16), 'osc1c_days': array([[-4, -3, -2, -1,  0,  1,  2,  3,  4,  5,  6,  7,  8,  9, 10, 11,\n",
      "        12, 13, 14, 15, 16, 17, 18, 19, 20, 21, 22, 23, 24, 25, 26, 27,\n",
      "        28, 29, 30, 32, 33]], dtype=int16), 'osc1c_diets': array([[array(['LFPP'], dtype='<U4')],\n",
      "       [array(['LFPP'], dtype='<U4')],\n",
      "       [array(['LFPP'], dtype='<U4')],\n",
      "       [array(['LFPP'], dtype='<U4')],\n",
      "       [array(['LFPP'], dtype='<U4')],\n",
      "       [array(['HFHS'], dtype='<U4')],\n",
      "       [array(['HFHS'], dtype='<U4')],\n",
      "       [array(['HFHS'], dtype='<U4')],\n",
      "       [array(['LFPP'], dtype='<U4')],\n",
      "       [array(['LFPP'], dtype='<U4')],\n",
      "       [array(['LFPP'], dtype='<U4')],\n",
      "       [array(['HFHS'], dtype='<U4')],\n",
      "       [array(['HFHS'], dtype='<U4')],\n",
      "       [array(['HFHS'], dtype='<U4')],\n",
      "       [array(['LFPP'], dtype='<U4')],\n",
      "       [array(['LFPP'], dtype='<U4')],\n",
      "       [array(['LFPP'], dtype='<U4')],\n",
      "       [array(['HFHS'], dtype='<U4')],\n",
      "       [array(['HFHS'], dtype='<U4')],\n",
      "       [array(['HFHS'], dtype='<U4')],\n",
      "       [array(['LFPP'], dtype='<U4')],\n",
      "       [array(['LFPP'], dtype='<U4')],\n",
      "       [array(['LFPP'], dtype='<U4')],\n",
      "       [array(['HFHS'], dtype='<U4')],\n",
      "       [array(['HFHS'], dtype='<U4')],\n",
      "       [array(['HFHS'], dtype='<U4')],\n",
      "       [array(['LFPP'], dtype='<U4')],\n",
      "       [array(['LFPP'], dtype='<U4')],\n",
      "       [array(['LFPP'], dtype='<U4')],\n",
      "       [array(['HFHS'], dtype='<U4')],\n",
      "       [array(['HFHS'], dtype='<U4')],\n",
      "       [array(['HFHS'], dtype='<U4')],\n",
      "       [array(['HFHS'], dtype='<U4')],\n",
      "       [array(['HFHS'], dtype='<U4')],\n",
      "       [array(['HFHS'], dtype='<U4')],\n",
      "       [array(['HFHS'], dtype='<U4')],\n",
      "       [array(['HFHS'], dtype='<U4')]], dtype=object), 'osc1c_samples': array([[array(['DOSC9'], dtype='<U5')],\n",
      "       [array(['DOSC24'], dtype='<U6')],\n",
      "       [array(['DOSC39'], dtype='<U6')],\n",
      "       [array(['DOSC276'], dtype='<U7')],\n",
      "       [array(['DOSC291'], dtype='<U7')],\n",
      "       [array(['DOSC306'], dtype='<U7')],\n",
      "       [array(['DOSC321'], dtype='<U7')],\n",
      "       [array(['DOSC336'], dtype='<U7')],\n",
      "       [array(['DOSC351'], dtype='<U7')],\n",
      "       [array(['DOSC54'], dtype='<U6')],\n",
      "       [array(['DOSC69'], dtype='<U6')],\n",
      "       [array(['DOSC83'], dtype='<U6')],\n",
      "       [array(['DOSC98'], dtype='<U6')],\n",
      "       [array(['DOSC112'], dtype='<U7')],\n",
      "       [array(['DOSC127'], dtype='<U7')],\n",
      "       [array(['DOSC365'], dtype='<U7')],\n",
      "       [array(['DOSC380'], dtype='<U7')],\n",
      "       [array(['DOSC395'], dtype='<U7')],\n",
      "       [array(['DOSC410'], dtype='<U7')],\n",
      "       [array(['DOSC425'], dtype='<U7')],\n",
      "       [array(['DOSC440'], dtype='<U7')],\n",
      "       [array(['DOSC141'], dtype='<U7')],\n",
      "       [array(['DOSC156'], dtype='<U7')],\n",
      "       [array(['DOSC166'], dtype='<U7')],\n",
      "       [array(['DOSC181'], dtype='<U7')],\n",
      "       [array(['DOSC196'], dtype='<U7')],\n",
      "       [array(['DOSC211'], dtype='<U7')],\n",
      "       [array(['DOSC455'], dtype='<U7')],\n",
      "       [array(['DOSC470'], dtype='<U7')],\n",
      "       [array(['DOSC485'], dtype='<U7')],\n",
      "       [array(['DOSC498'], dtype='<U7')],\n",
      "       [array(['DOSC225'], dtype='<U7')],\n",
      "       [array(['DOSC240'], dtype='<U7')],\n",
      "       [array(['DOSC255'], dtype='<U7')],\n",
      "       [array(['DOSC266'], dtype='<U7')],\n",
      "       [array(['DOSC519'], dtype='<U7')],\n",
      "       [array(['DOSC531'], dtype='<U7')]], dtype=object), 'osc1d': array([[ 7740,  8372,  9686, ...,  7851,  7422,  3269],\n",
      "       [13535,  9793, 11072, ...,  1858,  4940,  4536],\n",
      "       [  866,   428,   336, ...,   515,   242,   104],\n",
      "       ...,\n",
      "       [    0,     0,     0, ...,     0,     0,     0],\n",
      "       [    0,     0,     0, ...,     0,     0,     0],\n",
      "       [    0,     0,     0, ...,     0,     0,     0]], dtype=uint16), 'osc1d_days': array([[-4, -3, -2, -1,  0,  1,  2,  3,  4,  5,  6,  7,  8,  9, 11, 12,\n",
      "        13, 14, 15, 16, 17, 18, 19, 20, 21, 22, 23, 24, 26, 27, 28, 29,\n",
      "        32, 33]], dtype=int16), 'osc1d_diets': array([[array(['LFPP'], dtype='<U4')],\n",
      "       [array(['LFPP'], dtype='<U4')],\n",
      "       [array(['LFPP'], dtype='<U4')],\n",
      "       [array(['LFPP'], dtype='<U4')],\n",
      "       [array(['LFPP'], dtype='<U4')],\n",
      "       [array(['HFHS'], dtype='<U4')],\n",
      "       [array(['HFHS'], dtype='<U4')],\n",
      "       [array(['HFHS'], dtype='<U4')],\n",
      "       [array(['LFPP'], dtype='<U4')],\n",
      "       [array(['LFPP'], dtype='<U4')],\n",
      "       [array(['LFPP'], dtype='<U4')],\n",
      "       [array(['HFHS'], dtype='<U4')],\n",
      "       [array(['HFHS'], dtype='<U4')],\n",
      "       [array(['HFHS'], dtype='<U4')],\n",
      "       [array(['LFPP'], dtype='<U4')],\n",
      "       [array(['LFPP'], dtype='<U4')],\n",
      "       [array(['HFHS'], dtype='<U4')],\n",
      "       [array(['HFHS'], dtype='<U4')],\n",
      "       [array(['HFHS'], dtype='<U4')],\n",
      "       [array(['LFPP'], dtype='<U4')],\n",
      "       [array(['LFPP'], dtype='<U4')],\n",
      "       [array(['LFPP'], dtype='<U4')],\n",
      "       [array(['HFHS'], dtype='<U4')],\n",
      "       [array(['HFHS'], dtype='<U4')],\n",
      "       [array(['HFHS'], dtype='<U4')],\n",
      "       [array(['LFPP'], dtype='<U4')],\n",
      "       [array(['LFPP'], dtype='<U4')],\n",
      "       [array(['LFPP'], dtype='<U4')],\n",
      "       [array(['HFHS'], dtype='<U4')],\n",
      "       [array(['HFHS'], dtype='<U4')],\n",
      "       [array(['HFHS'], dtype='<U4')],\n",
      "       [array(['HFHS'], dtype='<U4')],\n",
      "       [array(['HFHS'], dtype='<U4')],\n",
      "       [array(['HFHS'], dtype='<U4')]], dtype=object), 'osc1d_samples': array([[array(['DOSC13'], dtype='<U6')],\n",
      "       [array(['DOSC28'], dtype='<U6')],\n",
      "       [array(['DOSC43'], dtype='<U6')],\n",
      "       [array(['DOSC280'], dtype='<U7')],\n",
      "       [array(['DOSC295'], dtype='<U7')],\n",
      "       [array(['DOSC310'], dtype='<U7')],\n",
      "       [array(['DOSC325'], dtype='<U7')],\n",
      "       [array(['DOSC340'], dtype='<U7')],\n",
      "       [array(['DOSC355'], dtype='<U7')],\n",
      "       [array(['DOSC58'], dtype='<U6')],\n",
      "       [array(['DOSC73'], dtype='<U6')],\n",
      "       [array(['DOSC87'], dtype='<U6')],\n",
      "       [array(['DOSC102'], dtype='<U7')],\n",
      "       [array(['DOSC116'], dtype='<U7')],\n",
      "       [array(['DOSC369'], dtype='<U7')],\n",
      "       [array(['DOSC384'], dtype='<U7')],\n",
      "       [array(['DOSC399'], dtype='<U7')],\n",
      "       [array(['DOSC414'], dtype='<U7')],\n",
      "       [array(['DOSC429'], dtype='<U7')],\n",
      "       [array(['DOSC444'], dtype='<U7')],\n",
      "       [array(['DOSC145'], dtype='<U7')],\n",
      "       [array(['DOSC160'], dtype='<U7')],\n",
      "       [array(['DOSC170'], dtype='<U7')],\n",
      "       [array(['DOSC185'], dtype='<U7')],\n",
      "       [array(['DOSC200'], dtype='<U7')],\n",
      "       [array(['DOSC215'], dtype='<U7')],\n",
      "       [array(['DOSC459'], dtype='<U7')],\n",
      "       [array(['DOSC474'], dtype='<U7')],\n",
      "       [array(['DOSC502'], dtype='<U7')],\n",
      "       [array(['DOSC229'], dtype='<U7')],\n",
      "       [array(['DOSC244'], dtype='<U7')],\n",
      "       [array(['DOSC259'], dtype='<U7')],\n",
      "       [array(['DOSC523'], dtype='<U7')],\n",
      "       [array(['DOSC535'], dtype='<U7')]], dtype=object), 'osc1e': array([[ 7178,  7957,  9224, ..., 11841,  8126,  8065],\n",
      "       [ 9881,  6625,  7155, ...,  2618,  2282,  2517],\n",
      "       [ 1496,   739,   242, ...,   256,   670,  2759],\n",
      "       ...,\n",
      "       [    0,     0,     0, ...,     0,     0,     0],\n",
      "       [    0,     0,     0, ...,     0,     0,     0],\n",
      "       [    0,     0,     0, ...,     0,     0,     0]], dtype=uint16), 'osc1e_days': array([[-3, -2, -1,  0,  1,  2,  3,  4,  5,  6,  7,  8,  9, 10, 11, 12,\n",
      "        13, 14, 15, 16, 17, 18, 20, 21, 22, 23, 24, 25, 26, 27, 28, 29,\n",
      "        30, 32, 33]], dtype=int16), 'osc1e_diets': array([[array(['LFPP'], dtype='<U4')],\n",
      "       [array(['LFPP'], dtype='<U4')],\n",
      "       [array(['LFPP'], dtype='<U4')],\n",
      "       [array(['LFPP'], dtype='<U4')],\n",
      "       [array(['HFHS'], dtype='<U4')],\n",
      "       [array(['HFHS'], dtype='<U4')],\n",
      "       [array(['HFHS'], dtype='<U4')],\n",
      "       [array(['LFPP'], dtype='<U4')],\n",
      "       [array(['LFPP'], dtype='<U4')],\n",
      "       [array(['LFPP'], dtype='<U4')],\n",
      "       [array(['HFHS'], dtype='<U4')],\n",
      "       [array(['HFHS'], dtype='<U4')],\n",
      "       [array(['HFHS'], dtype='<U4')],\n",
      "       [array(['LFPP'], dtype='<U4')],\n",
      "       [array(['LFPP'], dtype='<U4')],\n",
      "       [array(['LFPP'], dtype='<U4')],\n",
      "       [array(['HFHS'], dtype='<U4')],\n",
      "       [array(['HFHS'], dtype='<U4')],\n",
      "       [array(['HFHS'], dtype='<U4')],\n",
      "       [array(['LFPP'], dtype='<U4')],\n",
      "       [array(['LFPP'], dtype='<U4')],\n",
      "       [array(['LFPP'], dtype='<U4')],\n",
      "       [array(['HFHS'], dtype='<U4')],\n",
      "       [array(['HFHS'], dtype='<U4')],\n",
      "       [array(['LFPP'], dtype='<U4')],\n",
      "       [array(['LFPP'], dtype='<U4')],\n",
      "       [array(['LFPP'], dtype='<U4')],\n",
      "       [array(['HFHS'], dtype='<U4')],\n",
      "       [array(['HFHS'], dtype='<U4')],\n",
      "       [array(['HFHS'], dtype='<U4')],\n",
      "       [array(['HFHS'], dtype='<U4')],\n",
      "       [array(['HFHS'], dtype='<U4')],\n",
      "       [array(['HFHS'], dtype='<U4')],\n",
      "       [array(['HFHS'], dtype='<U4')],\n",
      "       [array(['HFHS'], dtype='<U4')]], dtype=object), 'osc1e_samples': array([[array(['DOSC15'], dtype='<U6')],\n",
      "       [array(['DOSC30'], dtype='<U6')],\n",
      "       [array(['DOSC267'], dtype='<U7')],\n",
      "       [array(['DOSC282'], dtype='<U7')],\n",
      "       [array(['DOSC297'], dtype='<U7')],\n",
      "       [array(['DOSC312'], dtype='<U7')],\n",
      "       [array(['DOSC327'], dtype='<U7')],\n",
      "       [array(['DOSC342'], dtype='<U7')],\n",
      "       [array(['DOSC45'], dtype='<U6')],\n",
      "       [array(['DOSC60'], dtype='<U6')],\n",
      "       [array(['DOSC75'], dtype='<U6')],\n",
      "       [array(['DOSC89'], dtype='<U6')],\n",
      "       [array(['DOSC104'], dtype='<U7')],\n",
      "       [array(['DOSC118'], dtype='<U7')],\n",
      "       [array(['DOSC357'], dtype='<U7')],\n",
      "       [array(['DOSC371'], dtype='<U7')],\n",
      "       [array(['DOSC386'], dtype='<U7')],\n",
      "       [array(['DOSC401'], dtype='<U7')],\n",
      "       [array(['DOSC416'], dtype='<U7')],\n",
      "       [array(['DOSC431'], dtype='<U7')],\n",
      "       [array(['DOSC132'], dtype='<U7')],\n",
      "       [array(['DOSC147'], dtype='<U7')],\n",
      "       [array(['DOSC172'], dtype='<U7')],\n",
      "       [array(['DOSC187'], dtype='<U7')],\n",
      "       [array(['DOSC202'], dtype='<U7')],\n",
      "       [array(['DOSC446'], dtype='<U7')],\n",
      "       [array(['DOSC461'], dtype='<U7')],\n",
      "       [array(['DOSC476'], dtype='<U7')],\n",
      "       [array(['DOSC489'], dtype='<U7')],\n",
      "       [array(['DOSC216'], dtype='<U7')],\n",
      "       [array(['DOSC231'], dtype='<U7')],\n",
      "       [array(['DOSC246'], dtype='<U7')],\n",
      "       [array(['DOSC261'], dtype='<U7')],\n",
      "       [array(['DOSC510'], dtype='<U7')],\n",
      "       [array(['DOSC525'], dtype='<U7')]], dtype=object), 'osc2a': array([[ 8235,  7684,  5561, ...,  9196, 16408, 11005],\n",
      "       [10394, 10056,  4149, ...,  2147,  2403,  3368],\n",
      "       [  530,  1272,  2502, ...,    83,     6,    24],\n",
      "       ...,\n",
      "       [    0,     0,     0, ...,     0,     0,     0],\n",
      "       [    0,     0,     0, ...,     0,     0,     0],\n",
      "       [    0,     0,     0, ...,     0,     0,     0]], dtype=uint16), 'osc2a_days': array([[-4, -3, -2, -1,  0,  1,  2,  3,  4,  5,  6,  7,  8,  9, 10, 11,\n",
      "        12, 13, 14, 15, 16, 17, 18, 19, 20, 21, 22, 23, 24, 25, 26, 27,\n",
      "        28, 29, 30, 32, 33]], dtype=int16), 'osc2a_diets': array([[array(['LFPP'], dtype='<U4')],\n",
      "       [array(['LFPP'], dtype='<U4')],\n",
      "       [array(['LFPP'], dtype='<U4')],\n",
      "       [array(['LFPP'], dtype='<U4')],\n",
      "       [array(['LFPP'], dtype='<U4')],\n",
      "       [array(['LFPP'], dtype='<U4')],\n",
      "       [array(['LFPP'], dtype='<U4')],\n",
      "       [array(['LFPP'], dtype='<U4')],\n",
      "       [array(['HFHS'], dtype='<U4')],\n",
      "       [array(['HFHS'], dtype='<U4')],\n",
      "       [array(['HFHS'], dtype='<U4')],\n",
      "       [array(['LFPP'], dtype='<U4')],\n",
      "       [array(['LFPP'], dtype='<U4')],\n",
      "       [array(['LFPP'], dtype='<U4')],\n",
      "       [array(['HFHS'], dtype='<U4')],\n",
      "       [array(['HFHS'], dtype='<U4')],\n",
      "       [array(['HFHS'], dtype='<U4')],\n",
      "       [array(['LFPP'], dtype='<U4')],\n",
      "       [array(['LFPP'], dtype='<U4')],\n",
      "       [array(['LFPP'], dtype='<U4')],\n",
      "       [array(['HFHS'], dtype='<U4')],\n",
      "       [array(['HFHS'], dtype='<U4')],\n",
      "       [array(['HFHS'], dtype='<U4')],\n",
      "       [array(['LFPP'], dtype='<U4')],\n",
      "       [array(['LFPP'], dtype='<U4')],\n",
      "       [array(['LFPP'], dtype='<U4')],\n",
      "       [array(['HFHS'], dtype='<U4')],\n",
      "       [array(['HFHS'], dtype='<U4')],\n",
      "       [array(['HFHS'], dtype='<U4')],\n",
      "       [array(['LFPP'], dtype='<U4')],\n",
      "       [array(['LFPP'], dtype='<U4')],\n",
      "       [array(['HFHS'], dtype='<U4')],\n",
      "       [array(['HFHS'], dtype='<U4')],\n",
      "       [array(['HFHS'], dtype='<U4')],\n",
      "       [array(['HFHS'], dtype='<U4')],\n",
      "       [array(['HFHS'], dtype='<U4')],\n",
      "       [array(['HFHS'], dtype='<U4')]], dtype=object), 'osc2a_samples': array([[array(['DOSC1'], dtype='<U5')],\n",
      "       [array(['DOSC16'], dtype='<U6')],\n",
      "       [array(['DOSC31'], dtype='<U6')],\n",
      "       [array(['DOSC268'], dtype='<U7')],\n",
      "       [array(['DOSC283'], dtype='<U7')],\n",
      "       [array(['DOSC298'], dtype='<U7')],\n",
      "       [array(['DOSC313'], dtype='<U7')],\n",
      "       [array(['DOSC328'], dtype='<U7')],\n",
      "       [array(['DOSC343'], dtype='<U7')],\n",
      "       [array(['DOSC46'], dtype='<U6')],\n",
      "       [array(['DOSC61'], dtype='<U6')],\n",
      "       [array(['DOSC76'], dtype='<U6')],\n",
      "       [array(['DOSC90'], dtype='<U6')],\n",
      "       [array(['DOSC105'], dtype='<U7')],\n",
      "       [array(['DOSC119'], dtype='<U7')],\n",
      "       [array(['DOSC358'], dtype='<U7')],\n",
      "       [array(['DOSC372'], dtype='<U7')],\n",
      "       [array(['DOSC387'], dtype='<U7')],\n",
      "       [array(['DOSC402'], dtype='<U7')],\n",
      "       [array(['DOSC417'], dtype='<U7')],\n",
      "       [array(['DOSC432'], dtype='<U7')],\n",
      "       [array(['DOSC133'], dtype='<U7')],\n",
      "       [array(['DOSC148'], dtype='<U7')],\n",
      "       [array(['DOSC162'], dtype='<U7')],\n",
      "       [array(['DOSC173'], dtype='<U7')],\n",
      "       [array(['DOSC188'], dtype='<U7')],\n",
      "       [array(['DOSC203'], dtype='<U7')],\n",
      "       [array(['DOSC447'], dtype='<U7')],\n",
      "       [array(['DOSC462'], dtype='<U7')],\n",
      "       [array(['DOSC477'], dtype='<U7')],\n",
      "       [array(['DOSC490'], dtype='<U7')],\n",
      "       [array(['DOSC217'], dtype='<U7')],\n",
      "       [array(['DOSC232'], dtype='<U7')],\n",
      "       [array(['DOSC247'], dtype='<U7')],\n",
      "       [array(['DOSC262'], dtype='<U7')],\n",
      "       [array(['DOSC511'], dtype='<U7')],\n",
      "       [array(['DOSC526'], dtype='<U7')]], dtype=object), 'osc2b': array([[ 6509,  8468,  6940, ...,  3087,  7932,  9951],\n",
      "       [14091,  9689, 11856, ...,  2111,  2275,  2560],\n",
      "       [  795,  1096,   442, ...,   262,  1129,    75],\n",
      "       ...,\n",
      "       [    0,     0,     0, ...,     0,     0,     0],\n",
      "       [    0,     0,     0, ...,     0,     0,     0],\n",
      "       [    0,     0,     0, ...,     0,     0,     0]], dtype=uint16), 'osc2b_days': array([[-4, -3, -2, -1,  0,  1,  2,  3,  4,  5,  6,  7,  8,  9, 10, 11,\n",
      "        12, 13, 14, 15, 16, 17, 18, 19, 20, 21, 22, 24, 25, 26, 27, 28,\n",
      "        29, 30, 32]], dtype=int16), 'osc2b_diets': array([[array(['LFPP'], dtype='<U4')],\n",
      "       [array(['LFPP'], dtype='<U4')],\n",
      "       [array(['LFPP'], dtype='<U4')],\n",
      "       [array(['LFPP'], dtype='<U4')],\n",
      "       [array(['LFPP'], dtype='<U4')],\n",
      "       [array(['LFPP'], dtype='<U4')],\n",
      "       [array(['LFPP'], dtype='<U4')],\n",
      "       [array(['LFPP'], dtype='<U4')],\n",
      "       [array(['HFHS'], dtype='<U4')],\n",
      "       [array(['HFHS'], dtype='<U4')],\n",
      "       [array(['HFHS'], dtype='<U4')],\n",
      "       [array(['LFPP'], dtype='<U4')],\n",
      "       [array(['LFPP'], dtype='<U4')],\n",
      "       [array(['LFPP'], dtype='<U4')],\n",
      "       [array(['HFHS'], dtype='<U4')],\n",
      "       [array(['HFHS'], dtype='<U4')],\n",
      "       [array(['HFHS'], dtype='<U4')],\n",
      "       [array(['LFPP'], dtype='<U4')],\n",
      "       [array(['LFPP'], dtype='<U4')],\n",
      "       [array(['LFPP'], dtype='<U4')],\n",
      "       [array(['HFHS'], dtype='<U4')],\n",
      "       [array(['HFHS'], dtype='<U4')],\n",
      "       [array(['HFHS'], dtype='<U4')],\n",
      "       [array(['LFPP'], dtype='<U4')],\n",
      "       [array(['LFPP'], dtype='<U4')],\n",
      "       [array(['LFPP'], dtype='<U4')],\n",
      "       [array(['HFHS'], dtype='<U4')],\n",
      "       [array(['HFHS'], dtype='<U4')],\n",
      "       [array(['LFPP'], dtype='<U4')],\n",
      "       [array(['LFPP'], dtype='<U4')],\n",
      "       [array(['HFHS'], dtype='<U4')],\n",
      "       [array(['HFHS'], dtype='<U4')],\n",
      "       [array(['HFHS'], dtype='<U4')],\n",
      "       [array(['HFHS'], dtype='<U4')],\n",
      "       [array(['HFHS'], dtype='<U4')]], dtype=object), 'osc2b_samples': array([[array(['DOSC5'], dtype='<U5')],\n",
      "       [array(['DOSC20'], dtype='<U6')],\n",
      "       [array(['DOSC35'], dtype='<U6')],\n",
      "       [array(['DOSC272'], dtype='<U7')],\n",
      "       [array(['DOSC287'], dtype='<U7')],\n",
      "       [array(['DOSC302'], dtype='<U7')],\n",
      "       [array(['DOSC317'], dtype='<U7')],\n",
      "       [array(['DOSC332'], dtype='<U7')],\n",
      "       [array(['DOSC347'], dtype='<U7')],\n",
      "       [array(['DOSC50'], dtype='<U6')],\n",
      "       [array(['DOSC65'], dtype='<U6')],\n",
      "       [array(['DOSC79'], dtype='<U6')],\n",
      "       [array(['DOSC94'], dtype='<U6')],\n",
      "       [array(['DOSC109'], dtype='<U7')],\n",
      "       [array(['DOSC123'], dtype='<U7')],\n",
      "       [array(['DOSC362'], dtype='<U7')],\n",
      "       [array(['DOSC376'], dtype='<U7')],\n",
      "       [array(['DOSC391'], dtype='<U7')],\n",
      "       [array(['DOSC406'], dtype='<U7')],\n",
      "       [array(['DOSC421'], dtype='<U7')],\n",
      "       [array(['DOSC436'], dtype='<U7')],\n",
      "       [array(['DOSC137'], dtype='<U7')],\n",
      "       [array(['DOSC152'], dtype='<U7')],\n",
      "       [array(['DOSC164'], dtype='<U7')],\n",
      "       [array(['DOSC177'], dtype='<U7')],\n",
      "       [array(['DOSC192'], dtype='<U7')],\n",
      "       [array(['DOSC207'], dtype='<U7')],\n",
      "       [array(['DOSC466'], dtype='<U7')],\n",
      "       [array(['DOSC481'], dtype='<U7')],\n",
      "       [array(['DOSC494'], dtype='<U7')],\n",
      "       [array(['DOSC221'], dtype='<U7')],\n",
      "       [array(['DOSC236'], dtype='<U7')],\n",
      "       [array(['DOSC251'], dtype='<U7')],\n",
      "       [array(['DOSC264'], dtype='<U7')],\n",
      "       [array(['DOSC515'], dtype='<U7')]], dtype=object), 'osc2c': array([[ 9325,  4953,  2221, ...,  6072,  6437,  3884],\n",
      "       [ 9219, 13502, 12309, ...,  4464,  6874,  5786],\n",
      "       [  892,   888,  1142, ...,   287,   473,    58],\n",
      "       ...,\n",
      "       [    0,     0,     0, ...,     0,     0,     0],\n",
      "       [    0,     0,     0, ...,     0,     0,     0],\n",
      "       [    0,     0,     0, ...,     0,     0,     0]], dtype=uint16), 'osc2c_days': array([[-4, -3, -2, -1,  0,  1,  2,  3,  4,  5,  6,  7,  8,  9, 10, 11,\n",
      "        12, 13, 14, 15, 16, 17, 18, 19, 20, 21, 22, 23, 24, 25, 26, 27,\n",
      "        28, 29, 30, 32, 33]], dtype=int16), 'osc2c_diets': array([[array(['LFPP'], dtype='<U4')],\n",
      "       [array(['LFPP'], dtype='<U4')],\n",
      "       [array(['LFPP'], dtype='<U4')],\n",
      "       [array(['LFPP'], dtype='<U4')],\n",
      "       [array(['LFPP'], dtype='<U4')],\n",
      "       [array(['LFPP'], dtype='<U4')],\n",
      "       [array(['LFPP'], dtype='<U4')],\n",
      "       [array(['LFPP'], dtype='<U4')],\n",
      "       [array(['HFHS'], dtype='<U4')],\n",
      "       [array(['HFHS'], dtype='<U4')],\n",
      "       [array(['HFHS'], dtype='<U4')],\n",
      "       [array(['LFPP'], dtype='<U4')],\n",
      "       [array(['LFPP'], dtype='<U4')],\n",
      "       [array(['LFPP'], dtype='<U4')],\n",
      "       [array(['HFHS'], dtype='<U4')],\n",
      "       [array(['HFHS'], dtype='<U4')],\n",
      "       [array(['HFHS'], dtype='<U4')],\n",
      "       [array(['LFPP'], dtype='<U4')],\n",
      "       [array(['LFPP'], dtype='<U4')],\n",
      "       [array(['LFPP'], dtype='<U4')],\n",
      "       [array(['HFHS'], dtype='<U4')],\n",
      "       [array(['HFHS'], dtype='<U4')],\n",
      "       [array(['HFHS'], dtype='<U4')],\n",
      "       [array(['LFPP'], dtype='<U4')],\n",
      "       [array(['LFPP'], dtype='<U4')],\n",
      "       [array(['LFPP'], dtype='<U4')],\n",
      "       [array(['HFHS'], dtype='<U4')],\n",
      "       [array(['HFHS'], dtype='<U4')],\n",
      "       [array(['HFHS'], dtype='<U4')],\n",
      "       [array(['LFPP'], dtype='<U4')],\n",
      "       [array(['LFPP'], dtype='<U4')],\n",
      "       [array(['HFHS'], dtype='<U4')],\n",
      "       [array(['HFHS'], dtype='<U4')],\n",
      "       [array(['HFHS'], dtype='<U4')],\n",
      "       [array(['HFHS'], dtype='<U4')],\n",
      "       [array(['HFHS'], dtype='<U4')],\n",
      "       [array(['HFHS'], dtype='<U4')]], dtype=object), 'osc2d': array([[ 9957, 11266, 18281, ...,  5418,  9568,  7467],\n",
      "       [ 8190,  6119,  2502, ...,  2225,  3262,  3144],\n",
      "       [ 1060,   154,    51, ...,   559,   393,    85],\n",
      "       ...,\n",
      "       [    0,     0,     0, ...,     0,     0,     0],\n",
      "       [    0,     0,     0, ...,     0,     0,     0],\n",
      "       [    0,     0,     0, ...,     0,     0,     0]], dtype=uint16), 'osc2d_days': array([[-4, -3, -2, -1,  0,  1,  2,  3,  4,  5,  6,  7,  8,  9, 10, 11,\n",
      "        12, 13, 14, 15, 16, 17, 18, 19, 20, 21, 22, 23, 24, 25, 26, 27,\n",
      "        28, 29, 32, 33]], dtype=int16), 'osc2d_diets': array([[array(['LFPP'], dtype='<U4')],\n",
      "       [array(['LFPP'], dtype='<U4')],\n",
      "       [array(['LFPP'], dtype='<U4')],\n",
      "       [array(['LFPP'], dtype='<U4')],\n",
      "       [array(['LFPP'], dtype='<U4')],\n",
      "       [array(['LFPP'], dtype='<U4')],\n",
      "       [array(['LFPP'], dtype='<U4')],\n",
      "       [array(['LFPP'], dtype='<U4')],\n",
      "       [array(['HFHS'], dtype='<U4')],\n",
      "       [array(['HFHS'], dtype='<U4')],\n",
      "       [array(['HFHS'], dtype='<U4')],\n",
      "       [array(['LFPP'], dtype='<U4')],\n",
      "       [array(['LFPP'], dtype='<U4')],\n",
      "       [array(['LFPP'], dtype='<U4')],\n",
      "       [array(['HFHS'], dtype='<U4')],\n",
      "       [array(['HFHS'], dtype='<U4')],\n",
      "       [array(['HFHS'], dtype='<U4')],\n",
      "       [array(['LFPP'], dtype='<U4')],\n",
      "       [array(['LFPP'], dtype='<U4')],\n",
      "       [array(['LFPP'], dtype='<U4')],\n",
      "       [array(['HFHS'], dtype='<U4')],\n",
      "       [array(['HFHS'], dtype='<U4')],\n",
      "       [array(['HFHS'], dtype='<U4')],\n",
      "       [array(['LFPP'], dtype='<U4')],\n",
      "       [array(['LFPP'], dtype='<U4')],\n",
      "       [array(['LFPP'], dtype='<U4')],\n",
      "       [array(['HFHS'], dtype='<U4')],\n",
      "       [array(['HFHS'], dtype='<U4')],\n",
      "       [array(['HFHS'], dtype='<U4')],\n",
      "       [array(['LFPP'], dtype='<U4')],\n",
      "       [array(['LFPP'], dtype='<U4')],\n",
      "       [array(['HFHS'], dtype='<U4')],\n",
      "       [array(['HFHS'], dtype='<U4')],\n",
      "       [array(['HFHS'], dtype='<U4')],\n",
      "       [array(['HFHS'], dtype='<U4')],\n",
      "       [array(['HFHS'], dtype='<U4')]], dtype=object), 'osc2d_samples': array([[array(['DOSC12'], dtype='<U6')],\n",
      "       [array(['DOSC27'], dtype='<U6')],\n",
      "       [array(['DOSC42'], dtype='<U6')],\n",
      "       [array(['DOSC279'], dtype='<U7')],\n",
      "       [array(['DOSC294'], dtype='<U7')],\n",
      "       [array(['DOSC309'], dtype='<U7')],\n",
      "       [array(['DOSC324'], dtype='<U7')],\n",
      "       [array(['DOSC339'], dtype='<U7')],\n",
      "       [array(['DOSC354'], dtype='<U7')],\n",
      "       [array(['DOSC57'], dtype='<U6')],\n",
      "       [array(['DOSC72'], dtype='<U6')],\n",
      "       [array(['DOSC86'], dtype='<U6')],\n",
      "       [array(['DOSC101'], dtype='<U7')],\n",
      "       [array(['DOSC115'], dtype='<U7')],\n",
      "       [array(['DOSC130'], dtype='<U7')],\n",
      "       [array(['DOSC368'], dtype='<U7')],\n",
      "       [array(['DOSC383'], dtype='<U7')],\n",
      "       [array(['DOSC398'], dtype='<U7')],\n",
      "       [array(['DOSC413'], dtype='<U7')],\n",
      "       [array(['DOSC428'], dtype='<U7')],\n",
      "       [array(['DOSC443'], dtype='<U7')],\n",
      "       [array(['DOSC144'], dtype='<U7')],\n",
      "       [array(['DOSC159'], dtype='<U7')],\n",
      "       [array(['DOSC169'], dtype='<U7')],\n",
      "       [array(['DOSC184'], dtype='<U7')],\n",
      "       [array(['DOSC199'], dtype='<U7')],\n",
      "       [array(['DOSC214'], dtype='<U7')],\n",
      "       [array(['DOSC458'], dtype='<U7')],\n",
      "       [array(['DOSC473'], dtype='<U7')],\n",
      "       [array(['DOSC488'], dtype='<U7')],\n",
      "       [array(['DOSC501'], dtype='<U7')],\n",
      "       [array(['DOSC228'], dtype='<U7')],\n",
      "       [array(['DOSC243'], dtype='<U7')],\n",
      "       [array(['DOSC258'], dtype='<U7')],\n",
      "       [array(['DOSC522'], dtype='<U7')],\n",
      "       [array(['DOSC534'], dtype='<U7')]], dtype=object), 'otax': array([[array(['Bacteroidales'], dtype='<U13')],\n",
      "       [array(['Bacteroidales'], dtype='<U13')],\n",
      "       [array(['Lactobacillales'], dtype='<U15')],\n",
      "       ...,\n",
      "       [array(['Clostridiales'], dtype='<U13')],\n",
      "       [array(['Clostridiales'], dtype='<U13')],\n",
      "       [array(['Clostridiales'], dtype='<U13')]], dtype=object), 'otu_ids': array([[array(['1'], dtype='<U1')],\n",
      "       [array(['2'], dtype='<U1')],\n",
      "       [array(['3'], dtype='<U1')],\n",
      "       ...,\n",
      "       [array(['9613'], dtype='<U4')],\n",
      "       [array(['9614'], dtype='<U4')],\n",
      "       [array(['9615'], dtype='<U4')]], dtype=object), 'ptax': array([[array(['Bacteroidetes'], dtype='<U13')],\n",
      "       [array(['Bacteroidetes'], dtype='<U13')],\n",
      "       [array(['Firmicutes'], dtype='<U10')],\n",
      "       ...,\n",
      "       [array(['Firmicutes'], dtype='<U10')],\n",
      "       [array(['Firmicutes'], dtype='<U10')],\n",
      "       [array(['Firmicutes'], dtype='<U10')]], dtype=object), 'tax': array([[array(['Root; 100%; Bacteria; 100%; Bacteroidetes; 86%; Bacteroidia; 70%; Bacteroidales; 70%; Marinilabiliaceae; 28%; Saccharicrinis; 15%'],\n",
      "              dtype='<U129')                                                                                                                        ],\n",
      "       [array(['Root; 100%; Bacteria; 100%; Bacteroidetes; 91%; Bacteroidia; 75%; Bacteroidales; 75%; Marinilabiliaceae; 27%; Saccharicrinis; 20%'],\n",
      "              dtype='<U129')                                                                                                                        ],\n",
      "       [array(['Root; 100%; Bacteria; 100%; Firmicutes; 100%; Bacilli; 100%; Lactobacillales; 98%; Lactobacillaceae; 93%; Lactobacillus; 93%'],\n",
      "              dtype='<U124')                                                                                                                   ],\n",
      "       ...,\n",
      "       [array(['Root; 100%; Bacteria; 99%; Firmicutes; 94%; Clostridia; 94%; Clostridiales; 94%; Lachnospiraceae; 87%; Parasporobacterium; 52%'],\n",
      "              dtype='<U126')                                                                                                                     ],\n",
      "       [array(['Root; 100%; Bacteria; 98%; Firmicutes; 79%; Clostridia; 78%; Clostridiales; 78%; Lachnospiraceae; 64%; Hespellia; 21%'],\n",
      "              dtype='<U117')                                                                                                            ],\n",
      "       [array(['Root; 100%; Bacteria; 100%; Firmicutes; 97%; Clostridia; 97%; Clostridiales; 97%; Lachnospiraceae; 86%; Acetatifactor; 25%'],\n",
      "              dtype='<U122')                                                                                                                 ]],\n",
      "      dtype=object)}\n"
     ]
    }
   ],
   "source": [
    "import scipy.io as spio\n",
    "import numpy as np\n",
    "import matplotlib.pyplot as plt\n",
    "file = spio.loadmat('/Users/josephfichera/Documents/Physics_work/UF_Physics/Machine_Learning/carmody_usearch_25K.mat')\n",
    "print(file.keys())\n",
    "print(file)"
   ]
  },
  {
   "cell_type": "code",
   "execution_count": 46,
   "id": "27f34d17",
   "metadata": {},
   "outputs": [
    {
     "name": "stdout",
     "output_type": "stream",
     "text": [
      "(8633, 37)\n"
     ]
    }
   ],
   "source": [
    "file['osc1a'].shape\n",
    "data = file['osc1a']\n",
    "print(data.shape)"
   ]
  },
  {
   "cell_type": "code",
   "execution_count": 92,
   "id": "edbfe32d",
   "metadata": {},
   "outputs": [
    {
     "data": {
      "text/plain": [
       "array([[-4, -3, -2, -1,  0,  1,  2,  3,  4,  5,  6,  7,  8,  9, 10, 11,\n",
       "        12, 13, 14, 15, 16, 17, 18, 19, 20, 21, 22, 23, 24, 25, 26, 27,\n",
       "        28, 29, 30, 32, 33]], dtype=int16)"
      ]
     },
     "execution_count": 92,
     "metadata": {},
     "output_type": "execute_result"
    }
   ],
   "source": [
    "file['osc1a_days']"
   ]
  },
  {
   "cell_type": "code",
   "execution_count": 48,
   "id": "9bbfd460",
   "metadata": {},
   "outputs": [
    {
     "data": {
      "text/plain": [
       "array([[array(['LFPP'], dtype='<U4')],\n",
       "       [array(['LFPP'], dtype='<U4')],\n",
       "       [array(['LFPP'], dtype='<U4')],\n",
       "       [array(['LFPP'], dtype='<U4')],\n",
       "       [array(['LFPP'], dtype='<U4')],\n",
       "       [array(['HFHS'], dtype='<U4')],\n",
       "       [array(['HFHS'], dtype='<U4')],\n",
       "       [array(['HFHS'], dtype='<U4')],\n",
       "       [array(['LFPP'], dtype='<U4')],\n",
       "       [array(['LFPP'], dtype='<U4')],\n",
       "       [array(['LFPP'], dtype='<U4')],\n",
       "       [array(['HFHS'], dtype='<U4')],\n",
       "       [array(['HFHS'], dtype='<U4')],\n",
       "       [array(['HFHS'], dtype='<U4')],\n",
       "       [array(['LFPP'], dtype='<U4')],\n",
       "       [array(['LFPP'], dtype='<U4')],\n",
       "       [array(['LFPP'], dtype='<U4')],\n",
       "       [array(['HFHS'], dtype='<U4')],\n",
       "       [array(['HFHS'], dtype='<U4')],\n",
       "       [array(['HFHS'], dtype='<U4')],\n",
       "       [array(['LFPP'], dtype='<U4')],\n",
       "       [array(['LFPP'], dtype='<U4')],\n",
       "       [array(['LFPP'], dtype='<U4')],\n",
       "       [array(['HFHS'], dtype='<U4')],\n",
       "       [array(['HFHS'], dtype='<U4')],\n",
       "       [array(['HFHS'], dtype='<U4')],\n",
       "       [array(['LFPP'], dtype='<U4')],\n",
       "       [array(['LFPP'], dtype='<U4')],\n",
       "       [array(['LFPP'], dtype='<U4')],\n",
       "       [array(['HFHS'], dtype='<U4')],\n",
       "       [array(['HFHS'], dtype='<U4')],\n",
       "       [array(['HFHS'], dtype='<U4')],\n",
       "       [array(['HFHS'], dtype='<U4')],\n",
       "       [array(['HFHS'], dtype='<U4')],\n",
       "       [array(['HFHS'], dtype='<U4')],\n",
       "       [array(['HFHS'], dtype='<U4')],\n",
       "       [array(['HFHS'], dtype='<U4')]], dtype=object)"
      ]
     },
     "execution_count": 48,
     "metadata": {},
     "output_type": "execute_result"
    }
   ],
   "source": [
    "file['osc1a_diets']"
   ]
  },
  {
   "cell_type": "code",
   "execution_count": 292,
   "id": "75fe1bf3",
   "metadata": {},
   "outputs": [
    {
     "data": {
      "text/plain": [
       "array([[array(['Bacteroidia'], dtype='<U11')],\n",
       "       [array(['Bacteroidia'], dtype='<U11')],\n",
       "       [array(['Bacilli'], dtype='<U7')],\n",
       "       ...,\n",
       "       [array(['Clostridia'], dtype='<U10')],\n",
       "       [array(['Clostridia'], dtype='<U10')],\n",
       "       [array(['Clostridia'], dtype='<U10')]], dtype=object)"
      ]
     },
     "execution_count": 292,
     "metadata": {},
     "output_type": "execute_result"
    }
   ],
   "source": [
    "file['ptax']\n",
    "# file['ctax']\n",
    "# file['otax']\n",
    "# file['ftax']\n",
    "# file['gtax']"
   ]
  },
  {
   "cell_type": "code",
   "execution_count": 93,
   "id": "3b4d134d",
   "metadata": {},
   "outputs": [
    {
     "name": "stdout",
     "output_type": "stream",
     "text": [
      "(8365, 1)\n",
      "(8365, 37)\n"
     ]
    }
   ],
   "source": [
    "# when reducing days, targets are phylla\n",
    "target = file['ptax']\n",
    "\n",
    "# remove the trace amounts of extraneous phylla\n",
    "index = []\n",
    "for i in range(len(target)):\n",
    "    if target[i] != 'Bacteroidetes':\n",
    "        if target[i] != 'Firmicutes':\n",
    "            index.append(i)\n",
    "\n",
    "target_new = np.delete(target, index, 0)\n",
    "print(target_new.shape)\n",
    "target_new[target_new == 'Bacteroidetes'] = 0\n",
    "target_new[target_new == 'Firmicutes'] = 1\n",
    "tf_new = target_new.flatten()\n",
    "tf_new.astype(int)\n",
    "\n",
    "data_new = np.delete(data, index, 0)\n",
    "print(data_new.shape)"
   ]
  },
  {
   "cell_type": "code",
   "execution_count": 111,
   "id": "bb7dee44",
   "metadata": {},
   "outputs": [
    {
     "name": "stdout",
     "output_type": "stream",
     "text": [
      "[2.94799761 2.97083084 2.92707711 2.9511058  2.9257621  2.96521219\n",
      " 2.85929468 2.92002391 2.97130903 2.98362224 2.98218769 2.98266587\n",
      " 2.96150628 2.94907352 2.94130305 2.9775254  2.97836222 2.98158996\n",
      " 2.94297669 2.82319187 2.95780036 2.96557083 2.96604901 2.97178721\n",
      " 2.93329348 2.97011357 2.97190675 2.97943814 2.97656904 2.98302451\n",
      " 2.95409444 2.9748954  2.97812313 2.97346085 2.98242678 2.98493724\n",
      " 2.98051405]\n",
      "[[ 5.34242639e+01  8.72139458e+01  5.75642296e+01 ...  2.39839772e+01\n",
      "   7.33857614e+01  6.65253862e+01]\n",
      " [ 7.38710300e+01  2.68301015e+01  7.06453520e+01 ...  3.95962326e+00\n",
      "   1.97974032e+01  5.10852239e+01]\n",
      " [ 5.43328702e+00  1.44103042e+00  4.33595326e+00 ...  9.26195575e-02\n",
      "   4.75319574e+00  2.55037582e+01]\n",
      " ...\n",
      " [-1.96278143e-02 -1.78355724e-02 -1.98906254e-02 ... -2.50718596e-02\n",
      "  -3.16685579e-02 -3.31792506e-02]\n",
      " [-1.96278143e-02 -1.78355724e-02 -1.98906254e-02 ... -2.50718596e-02\n",
      "  -3.16685579e-02 -3.31792506e-02]\n",
      " [-1.96278143e-02 -1.78355724e-02 -1.98906254e-02 ... -2.50718596e-02\n",
      "  -3.16685579e-02 -3.31792506e-02]]\n"
     ]
    }
   ],
   "source": [
    "# use StandardScaler() on the dataset which only includes Bacteroidetes and Firmicutes as Phylla\n",
    "from sklearn.preprocessing import StandardScaler\n",
    "scalerp = StandardScaler()\n",
    "scalerp.fit(data_new)\n",
    "print(scalerp.mean_)\n",
    "data_new = scalerp.transform(data_new)\n",
    "print(data_new)"
   ]
  },
  {
   "cell_type": "code",
   "execution_count": 273,
   "id": "f3697c25",
   "metadata": {},
   "outputs": [
    {
     "data": {
      "text/plain": [
       "<matplotlib.colorbar.Colorbar at 0x7fbace841fd0>"
      ]
     },
     "execution_count": 273,
     "metadata": {},
     "output_type": "execute_result"
    },
    {
     "data": {
      "image/png": "[encoded data removed]",
      "text/plain": [
       "<Figure size 432x288 with 2 Axes>"
      ]
     },
     "metadata": {
      "needs_background": "light"
     },
     "output_type": "display_data"
    }
   ],
   "source": [
    "# run PCA analysis on days\n",
    "pcap = PCA(n_components=2)\n",
    "projected = pcap.fit_transform(data_new)\n",
    "projected.shape\n",
    "\n",
    "plt.scatter(projected[:, 0], projected[:, 1],\n",
    "            c = tf_new, edgecolor='none', alpha=0.5,\n",
    "            cmap=plt.cm.get_cmap('Spectral', 10))\n",
    "plt.xlim(-2,15)\n",
    "plt.ylim(-5,5)\n",
    "plt.xlabel('component 1')\n",
    "plt.ylabel('component 2')\n",
    "plt.colorbar()"
   ]
  },
  {
   "cell_type": "code",
   "execution_count": 94,
   "id": "a3f4e4e5",
   "metadata": {},
   "outputs": [
    {
     "data": {
      "text/plain": [
       "(0.0, 3.0)"
      ]
     },
     "execution_count": 94,
     "metadata": {},
     "output_type": "execute_result"
    },
    {
     "data": {
      "image/png": "[encoded data removed]",
      "text/plain": [
       "<Figure size 432x288 with 1 Axes>"
      ]
     },
     "metadata": {
      "needs_background": "light"
     },
     "output_type": "display_data"
    }
   ],
   "source": [
    "# run PCA analysis on days\n",
    "from sklearn.decomposition import PCA\n",
    "pca = PCA(2)  # project from 37 to 2 dimensions\n",
    "projected = pca.fit_transform(data_new)\n",
    "pca = PCA().fit(data_new)\n",
    "plt.plot(np.cumsum(pca.explained_variance_ratio_))\n",
    "plt.xlabel('number of components')\n",
    "plt.ylabel('cumulative explained variance')\n",
    "plt.xlim(0,3)"
   ]
  },
  {
   "cell_type": "code",
   "execution_count": 168,
   "id": "28265c48",
   "metadata": {},
   "outputs": [
    {
     "name": "stdout",
     "output_type": "stream",
     "text": [
      "(8365, 8365)\n"
     ]
    },
    {
     "data": {
      "text/plain": [
       "<matplotlib.colorbar.Colorbar at 0x7fb989628fd0>"
      ]
     },
     "execution_count": 168,
     "metadata": {},
     "output_type": "execute_result"
    },
    {
     "data": {
      "image/png": "[encoded data removed]",
      "text/plain": [
       "<Figure size 432x288 with 2 Axes>"
      ]
     },
     "metadata": {
      "needs_background": "light"
     },
     "output_type": "display_data"
    }
   ],
   "source": [
    "# create n x n pair-wise distance matrix for n bacteria\n",
    "from sklearn.metrics import pairwise_distances\n",
    "D_new = pairwise_distances(data_new)\n",
    "print(D_new.shape)\n",
    "plt.imshow(D_new, zorder=2, cmap='Blues', interpolation='nearest')\n",
    "plt.colorbar()"
   ]
  },
  {
   "cell_type": "code",
   "execution_count": 123,
   "id": "b73637d8",
   "metadata": {},
   "outputs": [],
   "source": [
    "# reduce the dimension of days, use all of the data points labeled Bacteroidetes and Firmicutes\n",
    "# takes too long to run because it requires the use of an 8000 x 8000 matrix\n",
    "\n",
    "# from sklearn.manifold import MDS\n",
    "# model = MDS(n_components=2, random_state=10)\n",
    "# outS = model.fit_transform(data_new) # takes too long to run --> produces an 8000 x 2 matrix\n",
    "# plt.scatter(outS[:, 0], outS[:, 1], c = tf_new, edgecolor = 'none', alpha = 0.5,cmap=plt.cm.get_cmap('Spectral', 10))\n",
    "# plt.axis('equal')"
   ]
  },
  {
   "cell_type": "code",
   "execution_count": 417,
   "id": "ca3b2a1e",
   "metadata": {},
   "outputs": [
    {
     "name": "stdout",
     "output_type": "stream",
     "text": [
      "1\n",
      "42\n",
      "[18 18 18 18 18 18 18 18 18 18 18 18 18 18 18 18 18 18 18 18 18 18 18 18\n",
      " 18 18 18 18 18 18 18 18 18 18 18 18 18 18 18 18 18 18 18 18 18 18 18 18\n",
      " 18 18]\n",
      "[10 41 23 13  5  5 16 38 35 21  0 14 27 34 29 14  6 41 14 20  6  7 24  5\n",
      " 11 14 23  9 23 30  1 39 32 11  5 37 34  9 16  5 20 16 42 42 27 14 21 12\n",
      " 36 16]\n",
      "[18, 18, 18, 18, 18, 18, 18, 18, 18, 18, 18, 18, 18, 18, 18, 18, 18, 18, 18, 18, 18, 18, 18, 18, 18, 18, 18, 18, 18, 18, 18, 18, 18, 18, 18, 18, 18, 18, 18, 18, 18, 18, 18, 18, 18, 18, 18, 18, 18, 18, 10, 41, 23, 13, 5, 5, 16, 38, 35, 21, 0, 14, 27, 34, 29, 14, 6, 41, 14, 20, 6, 7, 24, 5, 11, 14, 23, 9, 23, 30, 1, 39, 32, 11, 5, 37, 34, 9, 16, 5, 20, 16, 42, 42, 27, 14, 21, 12, 36, 16]\n",
      "(100, 1)\n",
      "(100, 37)\n"
     ]
    }
   ],
   "source": [
    "# choose 100 data points, 50 from Bacteroidetes and 50 from Firmicutes\n",
    "bact_index = []\n",
    "firm_index = []\n",
    "for i in range(len(target_new)):\n",
    "    if target_new[i] == 0:\n",
    "        bact_index.append(i)\n",
    "    else:\n",
    "        firm_index.append(i)\n",
    "\n",
    "print(len(bact_index))\n",
    "print(len(firm_index))\n",
    "bact_index_50 = np.random.choice(bact_index, 50)\n",
    "firm_index_50 = np.random.choice(firm_index, 50)\n",
    "print(bact_index_50)\n",
    "print(firm_index_50)\n",
    "index_100 = [*bact_index_50, *firm_index_50]\n",
    "print(index_100)\n",
    "\n",
    "target_100 = target_new[index_100]\n",
    "data_100 = data_new[index_100,:]\n",
    "\n",
    "tf_100 = target_100.flatten()\n",
    "tf_100.astype(int)\n",
    "\n",
    "print(target_100.shape)\n",
    "print(data_100.shape)\n",
    "data_100 = data_100/np.sum(data_100, axis=0)"
   ]
  },
  {
   "cell_type": "code",
   "execution_count": 418,
   "id": "cc6f3a31",
   "metadata": {},
   "outputs": [
    {
     "name": "stdout",
     "output_type": "stream",
     "text": [
      "(100, 100)\n"
     ]
    },
    {
     "data": {
      "text/plain": [
       "<matplotlib.colorbar.Colorbar at 0x7fb98b281430>"
      ]
     },
     "execution_count": 418,
     "metadata": {},
     "output_type": "execute_result"
    },
    {
     "data": {
      "image/png": "[encoded data removed]",
      "text/plain": [
       "<Figure size 432x288 with 2 Axes>"
      ]
     },
     "metadata": {
      "needs_background": "light"
     },
     "output_type": "display_data"
    }
   ],
   "source": [
    "from sklearn.metrics import pairwise_distances\n",
    "D_100 = pairwise_distances(data_100)\n",
    "print(D_100.shape)\n",
    "plt.imshow(D_100, zorder=2, cmap='Blues', interpolation='nearest')\n",
    "plt.colorbar()"
   ]
  },
  {
   "cell_type": "code",
   "execution_count": 433,
   "id": "b7e04318",
   "metadata": {},
   "outputs": [
    {
     "data": {
      "text/plain": [
       "(-0.5, 0.5)"
      ]
     },
     "execution_count": 433,
     "metadata": {},
     "output_type": "execute_result"
    },
    {
     "data": {
      "image/png": "[encoded data removed]",
      "text/plain": [
       "<Figure size 432x288 with 1 Axes>"
      ]
     },
     "metadata": {
      "needs_background": "light"
     },
     "output_type": "display_data"
    }
   ],
   "source": [
    "# reduce dimension of days, but only use 100 data points\n",
    "from sklearn.manifold import MDS\n",
    "model = MDS(n_components=2, dissimilarity='precomputed', random_state=10)\n",
    "outS = model.fit_transform(D_100) # only requires a 100 x 100 matrix\n",
    "plt.scatter(outS[:, 0], outS[:, 1], c = tf_100, edgecolor = 'none', alpha = 0.5, cmap = 'RdBu',label=tf_100)\n",
    "plt.axis('equal')\n",
    "# plt.legend([])\n",
    "plt.xlim(-0.5,0.5)\n",
    "plt.ylim(-0.5,0.5)"
   ]
  },
  {
   "cell_type": "code",
   "execution_count": 172,
   "id": "0f5a3303",
   "metadata": {},
   "outputs": [
    {
     "name": "stdout",
     "output_type": "stream",
     "text": [
      "[ 4.11527126e-19 -2.05763563e-19 -1.27573409e-17  3.29221701e-18\n",
      " -2.88068988e-18 -4.93832551e-18 -4.52679839e-18 -1.37861587e-17\n",
      " -1.74899029e-18 -1.09054688e-17  8.23054252e-19 -1.44034494e-17\n",
      " -1.81071935e-17 -9.46512390e-18 -1.33746316e-18 -1.23458138e-18\n",
      "  1.44034494e-18 -2.46916276e-18 -4.93832551e-18 -1.76956664e-17\n",
      "  6.17290689e-19  2.26339919e-18 -3.29221701e-18 -4.11527126e-18\n",
      " -4.11527126e-19  2.88068988e-18 -2.05763563e-19  6.99596114e-18\n",
      "  1.23458138e-18 -8.23054252e-19 -4.93832551e-18 -1.23458138e-18\n",
      "  1.54322672e-17  0.00000000e+00  7.61325183e-18 -3.70374413e-18\n",
      "  1.23458138e-18]\n",
      "[[ 5.42679508e+01  8.85995087e+01  5.84536119e+01 ...  2.43655592e+01\n",
      "   7.45517888e+01  6.75818657e+01]\n",
      " [ 7.50374815e+01  2.72566664e+01  7.17367921e+01 ...  4.02323755e+00\n",
      "   2.01126654e+01  5.18967227e+01]\n",
      " [ 5.51940731e+00  1.46437364e+00  4.40314402e+00 ...  9.48295096e-02\n",
      "   4.82961716e+00  2.59093698e+01]\n",
      " ...\n",
      " [-1.95850703e-02 -1.76616198e-02 -1.99824898e-02 ... -2.47307352e-02\n",
      "  -3.12113118e-02 -3.27484152e-02]\n",
      " [-1.95850703e-02 -1.76616198e-02 -1.99824898e-02 ... -2.47307352e-02\n",
      "  -3.12113118e-02 -3.27484152e-02]\n",
      " [-1.95850703e-02 -1.76616198e-02 -1.99824898e-02 ... -2.47307352e-02\n",
      "  -3.12113118e-02 -3.27484152e-02]]\n"
     ]
    }
   ],
   "source": [
    "# use StandardScaler() on the whole data set \n",
    "scalerd = StandardScaler()\n",
    "scalerd.fit(data)\n",
    "print(scalerd.mean_)\n",
    "data = scalerd.transform(data)\n",
    "print(data)"
   ]
  },
  {
   "cell_type": "code",
   "execution_count": 251,
   "id": "2267a965",
   "metadata": {},
   "outputs": [
    {
     "data": {
      "text/plain": [
       "<matplotlib.colorbar.Colorbar at 0x7fb98fe64130>"
      ]
     },
     "execution_count": 251,
     "metadata": {},
     "output_type": "execute_result"
    },
    {
     "data": {
      "image/png": "[encoded data removed]",
      "text/plain": [
       "<Figure size 432x288 with 2 Axes>"
      ]
     },
     "metadata": {
      "needs_background": "light"
     },
     "output_type": "display_data"
    }
   ],
   "source": [
    "# run PCA analysis on bacteria\n",
    "projected = pcap.fit_transform(data.T)\n",
    "projected.shape\n",
    "\n",
    "plt.scatter(projected[:, 0], projected[:, 1], c = tf, edgecolor='none', alpha=1,\n",
    "            cmap=plt.cm.get_cmap('Spectral', 10))\n",
    "plt.xlabel('component 1')\n",
    "plt.ylabel('component 2')\n",
    "plt.colorbar()"
   ]
  },
  {
   "cell_type": "code",
   "execution_count": 174,
   "id": "4dd676c7",
   "metadata": {},
   "outputs": [
    {
     "data": {
      "text/plain": [
       "(0.0, 5.0)"
      ]
     },
     "execution_count": 174,
     "metadata": {},
     "output_type": "execute_result"
    },
    {
     "data": {
      "image/png": "[encoded data removed]",
      "text/plain": [
       "<Figure size 432x288 with 1 Axes>"
      ]
     },
     "metadata": {
      "needs_background": "light"
     },
     "output_type": "display_data"
    }
   ],
   "source": [
    "# run PCA analysis on bacteria\n",
    "pca = PCA(2)  # project from 8000 to 2 dimensions\n",
    "projected = pca.fit_transform(data.T) \n",
    "pca = PCA().fit(data.T)\n",
    "plt.plot(np.cumsum(pca.explained_variance_ratio_))\n",
    "plt.xlabel('number of components')\n",
    "plt.ylabel('cumulative explained variance')\n",
    "plt.xlim(0,5)"
   ]
  },
  {
   "cell_type": "code",
   "execution_count": 175,
   "id": "0db9711b",
   "metadata": {},
   "outputs": [
    {
     "name": "stdout",
     "output_type": "stream",
     "text": [
      "(37, 1)\n"
     ]
    },
    {
     "data": {
      "text/plain": [
       "array([0, 0, 0, 0, 0, 1, 1, 1, 0, 0, 0, 1, 1, 1, 0, 0, 0, 1, 1, 1, 0, 0,\n",
       "       0, 1, 1, 1, 0, 0, 0, 1, 1, 1, 1, 1, 1, 1, 1])"
      ]
     },
     "execution_count": 175,
     "metadata": {},
     "output_type": "execute_result"
    }
   ],
   "source": [
    "# when reducing dimensions of bacteria, labels are now high/low fat\n",
    "target = file['osc1a_diets']\n",
    "print(target.shape)\n",
    "target[target == 'LFPP'] = 0\n",
    "target[target == 'HFHS'] = 1\n",
    "tf = target.flatten()\n",
    "tf.astype(int)"
   ]
  },
  {
   "cell_type": "code",
   "execution_count": 176,
   "id": "f11ce67b",
   "metadata": {},
   "outputs": [
    {
     "name": "stdout",
     "output_type": "stream",
     "text": [
      "(37, 37)\n"
     ]
    },
    {
     "data": {
      "text/plain": [
       "<matplotlib.colorbar.Colorbar at 0x7fb98cfde070>"
      ]
     },
     "execution_count": 176,
     "metadata": {},
     "output_type": "execute_result"
    },
    {
     "data": {
      "image/png": "[encoded data removed]",
      "text/plain": [
       "<Figure size 432x288 with 2 Axes>"
      ]
     },
     "metadata": {
      "needs_background": "light"
     },
     "output_type": "display_data"
    }
   ],
   "source": [
    "from sklearn.metrics import pairwise_distances\n",
    "D_T = pairwise_distances(data.T)\n",
    "print(D_T.shape)\n",
    "plt.imshow(D_T, zorder=2, cmap='Blues', interpolation='nearest')\n",
    "plt.colorbar()"
   ]
  },
  {
   "cell_type": "code",
   "execution_count": 250,
   "id": "64ed8c6c",
   "metadata": {},
   "outputs": [
    {
     "data": {
      "text/plain": [
       "(-51.655221838033654,\n",
       " 83.00634315506373,\n",
       " -60.754280717100784,\n",
       " 112.0150231365469)"
      ]
     },
     "execution_count": 250,
     "metadata": {},
     "output_type": "execute_result"
    },
    {
     "data": {
      "image/png": "[encoded data removed]",
      "text/plain": [
       "<Figure size 432x288 with 1 Axes>"
      ]
     },
     "metadata": {
      "needs_background": "light"
     },
     "output_type": "display_data"
    }
   ],
   "source": [
    "# reduce dimension of bacteria\n",
    "model = MDS(n_components=2, dissimilarity='precomputed', random_state=10)\n",
    "outS = model.fit_transform(D_T)\n",
    "plt.scatter(outS[:, 0], outS[:, 1], c = tf, edgecolor = 'none', alpha = 1, cmap=plt.cm.get_cmap('Spectral', 10))\n",
    "plt.axis('equal')"
   ]
  },
  {
   "cell_type": "code",
   "execution_count": 241,
   "id": "5ed3892c",
   "metadata": {},
   "outputs": [
    {
     "name": "stderr",
     "output_type": "stream",
     "text": [
      "/Users/josephfichera/opt/anaconda3/lib/python3.9/site-packages/sklearn/manifold/_locally_linear.py:436: RuntimeWarning: divide by zero encountered in true_divide\n",
      "  tmp[:, :nev] /= evals + reg[:, None]\n",
      "/Users/josephfichera/opt/anaconda3/lib/python3.9/site-packages/sklearn/manifold/_locally_linear.py:446: RuntimeWarning: invalid value encountered in true_divide\n",
      "  rho = evals[:, n_components:].sum(1) / evals[:, :n_components].sum(1)\n",
      "/Users/josephfichera/opt/anaconda3/lib/python3.9/site-packages/sklearn/manifold/_locally_linear.py:454: RuntimeWarning: invalid value encountered in true_divide\n",
      "  eta_range = evals_cumsum[:, -1:] / evals_cumsum[:, :-1] - 1\n",
      "/Users/josephfichera/opt/anaconda3/lib/python3.9/site-packages/sklearn/manifold/_locally_linear.py:467: RuntimeWarning: invalid value encountered in double_scalars\n",
      "  alpha_i = np.linalg.norm(Vi.sum(0)) / np.sqrt(s_i)\n"
     ]
    },
    {
     "data": {
      "text/plain": [
       "<matplotlib.collections.PathCollection at 0x7fb98ecd0c40>"
      ]
     },
     "execution_count": 241,
     "metadata": {},
     "output_type": "execute_result"
    },
    {
     "data": {
      "image/png": "[encoded data removed]",
      "text/plain": [
       "<Figure size 432x288 with 1 Axes>"
      ]
     },
     "metadata": {
      "needs_background": "light"
     },
     "output_type": "display_data"
    }
   ],
   "source": [
    "# reduces dimensions of days, produces 8000 x 2 matrix\n",
    "from sklearn.manifold import LocallyLinearEmbedding\n",
    "model = LocallyLinearEmbedding(n_neighbors=10, n_components=2, method='modified',\n",
    "                               eigen_solver='dense')\n",
    "out = model.fit_transform(data_new) # 8000 x 2, reduces dimension of days\n",
    "\n",
    "fig, ax = plt.subplots()\n",
    "ax.scatter(out[:, 0], out[:, 1], c = tf_new, edgecolor = 'none', alpha = 0.5, cmap=plt.cm.get_cmap('Spectral', 10))\n",
    "# ax.set_ylim(0.15, -0.15);"
   ]
  },
  {
   "cell_type": "code",
   "execution_count": 249,
   "id": "1d1a38dc",
   "metadata": {},
   "outputs": [
    {
     "data": {
      "text/plain": [
       "<matplotlib.collections.PathCollection at 0x7fb98f7e1b50>"
      ]
     },
     "execution_count": 249,
     "metadata": {},
     "output_type": "execute_result"
    },
    {
     "data": {
      "image/png": "[encoded data removed]",
      "text/plain": [
       "<Figure size 432x288 with 1 Axes>"
      ]
     },
     "metadata": {
      "needs_background": "light"
     },
     "output_type": "display_data"
    }
   ],
   "source": [
    "# reduces dimensions of bacteria, produces 37 x 2 matrix\n",
    "model = LocallyLinearEmbedding(n_neighbors=10, n_components=2, method='modified',\n",
    "                               eigen_solver='dense')\n",
    "out = model.fit_transform(data.T) # reduces dimension of bacteria\n",
    "\n",
    "fig, ax = plt.subplots()\n",
    "ax.scatter(out[:, 0], out[:, 1], c = tf, edgecolor = 'none', alpha = 1, cmap=plt.cm.get_cmap('Spectral', 10))\n",
    "# ax.set_ylim(0.15, -0.15);"
   ]
  },
  {
   "cell_type": "code",
   "execution_count": 243,
   "id": "d39a59db",
   "metadata": {},
   "outputs": [],
   "source": [
    "# reduces dimension of days, produces 8000 x 2 matrix \n",
    "# takes too long to run because it requires the use of a very large matrix\n",
    "\n",
    "# from sklearn.manifold import Isomap\n",
    "# model = Isomap(n_components=2)\n",
    "# outS = model.fit_transform(data_new)\n",
    "# plt.scatter(outS[:, 0], outS[:, 1], c = tf_new, edgecolor = 'none', alpha = 0.5,cmap=plt.cm.get_cmap('Spectral', 10))\n",
    "# plt.axis('equal')"
   ]
  },
  {
   "cell_type": "code",
   "execution_count": 248,
   "id": "79c3e9e5",
   "metadata": {},
   "outputs": [
    {
     "data": {
      "text/plain": [
       "(-50.0, 50.0)"
      ]
     },
     "execution_count": 248,
     "metadata": {},
     "output_type": "execute_result"
    },
    {
     "data": {
      "image/png": "[encoded data removed]",
      "text/plain": [
       "<Figure size 432x288 with 1 Axes>"
      ]
     },
     "metadata": {
      "needs_background": "light"
     },
     "output_type": "display_data"
    }
   ],
   "source": [
    "# choose 100 random data points, reduce dimension of days\n",
    "from sklearn.manifold import Isomap\n",
    "model = Isomap(n_components=2)\n",
    "outS = model.fit_transform(data_100) # 100 x 2, reduces dimension of days\n",
    "plt.scatter(outS[:, 0], outS[:, 1], c = tf_100, edgecolor = 'none', alpha = 0.5, cmap=plt.cm.get_cmap('Spectral', 10))\n",
    "plt.axis('equal')\n",
    "plt.xlim(-50,50)\n",
    "plt.ylim(-50,50)"
   ]
  },
  {
   "cell_type": "code",
   "execution_count": 246,
   "id": "fd526230",
   "metadata": {},
   "outputs": [
    {
     "data": {
      "text/plain": [
       "(-81.92814246232457, 142.1715857645687, -72.7523687439043, 110.95686858788375)"
      ]
     },
     "execution_count": 246,
     "metadata": {},
     "output_type": "execute_result"
    },
    {
     "data": {
      "image/png": "[encoded data removed]",
      "text/plain": [
       "<Figure size 432x288 with 1 Axes>"
      ]
     },
     "metadata": {
      "needs_background": "light"
     },
     "output_type": "display_data"
    }
   ],
   "source": [
    "# reduces dimensions of bacteria, produces 37 x 2 matrix\n",
    "model = Isomap(n_components=2)\n",
    "outS = model.fit_transform(data.T) # 37 x 2, reduces dimension of bacteria\n",
    "plt.scatter(outS[:, 0], outS[:, 1], c = tf, edgecolor = 'none', alpha = 1, cmap=plt.cm.get_cmap('Spectral', 10))\n",
    "plt.axis('equal')"
   ]
  },
  {
   "cell_type": "code",
   "execution_count": 404,
   "id": "5aac09e3",
   "metadata": {},
   "outputs": [
    {
     "name": "stdout",
     "output_type": "stream",
     "text": [
      "42\n",
      "[array(['Acetothermia_genera_incertae_sedis'], dtype='<U34')\n",
      " array(['Acidobacteria_Gp1'], dtype='<U17')\n",
      " array(['Acidobacteria_Gp21'], dtype='<U18')\n",
      " array(['Acidobacteria_Gp3'], dtype='<U17')\n",
      " array(['Actinobacteria'], dtype='<U14')\n",
      " array(['Alphaproteobacteria'], dtype='<U19')\n",
      " array(['Aminicenantes_genera_incertae_sedis'], dtype='<U35')\n",
      " array(['Anaerolineae'], dtype='<U12') array(['Aquificae'], dtype='<U9')\n",
      " array(['Ardenticatenia'], dtype='<U14') array(['Bacilli'], dtype='<U7')\n",
      " array(['Bacteroidetes_incertae_sedis'], dtype='<U28')\n",
      " array(['Bacteroidia'], dtype='<U11')\n",
      " array(['Betaproteobacteria'], dtype='<U18')\n",
      " array(['Caldisericia'], dtype='<U12')\n",
      " array(['Candidatus Hydrogenedens'], dtype='<U24')\n",
      " array(['Chlamydiia'], dtype='<U10') array(['Chlorobia'], dtype='<U9')\n",
      " array(['Chloroplast'], dtype='<U11') array(['Clostridia'], dtype='<U10')\n",
      " array(['Cytophagia'], dtype='<U10')\n",
      " array(['Deferribacteres'], dtype='<U15')\n",
      " array(['Dehalococcoidia'], dtype='<U15')\n",
      " array(['Deinococci'], dtype='<U10')\n",
      " array(['Deltaproteobacteria'], dtype='<U19')\n",
      " array(['Epsilonproteobacteria'], dtype='<U21')\n",
      " array(['Erysipelotrichia'], dtype='<U16')\n",
      " array(['Flavobacteriia'], dtype='<U14')\n",
      " array(['Gammaproteobacteria'], dtype='<U19')\n",
      " array(['Ignavibacteria'], dtype='<U14')\n",
      " array(['Mollicutes'], dtype='<U10')\n",
      " array(['Negativicutes'], dtype='<U13') array(['Opitutae'], dtype='<U8')\n",
      " array(['Planctomycetia'], dtype='<U14')\n",
      " array(['Sphingobacteriia'], dtype='<U16')\n",
      " array(['Spirochaetia'], dtype='<U12')\n",
      " array(['Subdivision3'], dtype='<U12')\n",
      " array(['Subdivision5'], dtype='<U12')\n",
      " array(['Synergistia'], dtype='<U11')\n",
      " array(['Thermoprotei'], dtype='<U12')\n",
      " array(['Verrucomicrobiae'], dtype='<U16')\n",
      " array(['Woesearchaeota Incertae Sedis AR18'], dtype='<U34')]\n"
     ]
    }
   ],
   "source": [
    "# Let's try labels of another taxonomy instead of phylla\n",
    "# target = file['ptax']\n",
    "target = file['ctax']\n",
    "# target = file['otax']\n",
    "# target = file['ftax']\n",
    "# target = file['gtax']\n",
    "unique = np.unique(target)\n",
    "print(len(unique))\n",
    "print(unique)"
   ]
  },
  {
   "cell_type": "code",
   "execution_count": 450,
   "id": "2ebf1e13",
   "metadata": {},
   "outputs": [
    {
     "name": "stdout",
     "output_type": "stream",
     "text": [
      "Caldisericia\n",
      "Woesearchaeota Incertae Sedis AR18\n",
      "7\n",
      "[[0]\n",
      " [0]\n",
      " [0]\n",
      " [0]\n",
      " [0]\n",
      " [1]\n",
      " [0]]\n",
      "(7, 37)\n"
     ]
    }
   ],
   "source": [
    "features = np.random.choice(unique, 2)\n",
    "feature_1 = ''.join(features[0])\n",
    "feature_2 = ''.join(features[1])\n",
    "print(feature_1)\n",
    "print(feature_2)\n",
    "\n",
    "index = []\n",
    "for i in range(len(target)):\n",
    "    if target[i] == feature_1:\n",
    "        index.append(i)\n",
    "    if target[i] == feature_2:\n",
    "        index.append(i)\n",
    "print(len(index))\n",
    "\n",
    "# print(index)\n",
    "# target_new = np.delete(target, index, 0)\n",
    "target_new = target[index]\n",
    "target_new[target_new == str(feature_1)] = 0\n",
    "target_new[target_new == str(feature_2)] = 1\n",
    "print(target_new)\n",
    "tf_new = target_new.flatten()\n",
    "# tf_new.astype(int)\n",
    "\n",
    "data_new = data[index]\n",
    "print(data_new.shape)"
   ]
  },
  {
   "cell_type": "code",
   "execution_count": 451,
   "id": "521afd52",
   "metadata": {},
   "outputs": [
    {
     "data": {
      "text/plain": [
       "<matplotlib.colorbar.Colorbar at 0x7fb99815fbb0>"
      ]
     },
     "execution_count": 451,
     "metadata": {},
     "output_type": "execute_result"
    },
    {
     "data": {
      "image/png": "[encoded data removed]",
      "text/plain": [
       "<Figure size 432x288 with 2 Axes>"
      ]
     },
     "metadata": {
      "needs_background": "light"
     },
     "output_type": "display_data"
    }
   ],
   "source": [
    "# run PCA analysis on days\n",
    "pcap = PCA(n_components=2)\n",
    "projected = pcap.fit_transform(data_new)\n",
    "projected.shape\n",
    "\n",
    "plt.scatter(projected[:, 0], projected[:, 1],\n",
    "            c = tf_new, edgecolor='none', alpha=0.5,\n",
    "            cmap=plt.cm.get_cmap('Spectral', 10))\n",
    "# plt.xlim(-2,15)\n",
    "# plt.ylim(-5,5)\n",
    "plt.xlabel('component 1')\n",
    "plt.ylabel('component 2')\n",
    "plt.colorbar()"
   ]
  },
  {
   "cell_type": "code",
   "execution_count": 452,
   "id": "6099c884",
   "metadata": {},
   "outputs": [
    {
     "data": {
      "text/plain": [
       "(0.0, 3.0)"
      ]
     },
     "execution_count": 452,
     "metadata": {},
     "output_type": "execute_result"
    },
    {
     "data": {
      "image/png": "[encoded data removed]",
      "text/plain": [
       "<Figure size 432x288 with 1 Axes>"
      ]
     },
     "metadata": {
      "needs_background": "light"
     },
     "output_type": "display_data"
    }
   ],
   "source": [
    "# run PCA analysis on days\n",
    "from sklearn.decomposition import PCA\n",
    "pca = PCA(2)  # project from 37 to 2 dimensions\n",
    "projected = pca.fit_transform(data_new)\n",
    "pca = PCA().fit(data_new)\n",
    "plt.plot(np.cumsum(pca.explained_variance_ratio_))\n",
    "plt.xlabel('number of components')\n",
    "plt.ylabel('cumulative explained variance')\n",
    "plt.xlim(0,3)"
   ]
  },
  {
   "cell_type": "code",
   "execution_count": 453,
   "id": "0aebdf34",
   "metadata": {},
   "outputs": [
    {
     "data": {
      "text/plain": [
       "(-0.01051965291776758,\n",
       " 0.019090412126428546,\n",
       " -0.013047034048215911,\n",
       " 0.01677456357451744)"
      ]
     },
     "execution_count": 453,
     "metadata": {},
     "output_type": "execute_result"
    },
    {
     "data": {
      "image/png": "[encoded data removed]",
      "text/plain": [
       "<Figure size 432x288 with 1 Axes>"
      ]
     },
     "metadata": {
      "needs_background": "light"
     },
     "output_type": "display_data"
    }
   ],
   "source": [
    "from sklearn.manifold import MDS\n",
    "model = MDS(n_components=2, random_state=10)\n",
    "outS = model.fit_transform(data_new)\n",
    "plt.scatter(outS[:, 0], outS[:, 1], c = tf_new, edgecolor = 'none', alpha = 0.5,cmap=plt.cm.get_cmap('Spectral', 10))\n",
    "plt.axis('equal')\n",
    "# plt.xlim(-5,5)\n",
    "# plt.ylim(-5,5)"
   ]
  },
  {
   "cell_type": "code",
   "execution_count": 455,
   "id": "c602fa73",
   "metadata": {},
   "outputs": [
    {
     "name": "stderr",
     "output_type": "stream",
     "text": [
      "/Users/josephfichera/opt/anaconda3/lib/python3.9/site-packages/sklearn/manifold/_locally_linear.py:467: RuntimeWarning: invalid value encountered in double_scalars\n",
      "  alpha_i = np.linalg.norm(Vi.sum(0)) / np.sqrt(s_i)\n"
     ]
    },
    {
     "data": {
      "text/plain": [
       "<matplotlib.collections.PathCollection at 0x7fb9984b50a0>"
      ]
     },
     "execution_count": 455,
     "metadata": {},
     "output_type": "execute_result"
    },
    {
     "data": {
      "image/png": "[encoded data removed]",
      "text/plain": [
       "<Figure size 432x288 with 1 Axes>"
      ]
     },
     "metadata": {
      "needs_background": "light"
     },
     "output_type": "display_data"
    }
   ],
   "source": [
    "# reduces dimensions of days, produces 8000 x 2 matrix\n",
    "from sklearn.manifold import LocallyLinearEmbedding\n",
    "model = LocallyLinearEmbedding(n_neighbors=5, n_components=2, method='modified',\n",
    "                               eigen_solver='dense')\n",
    "out = model.fit_transform(data_new) # 8000 x 2, reduces dimension of days\n",
    "\n",
    "fig, ax = plt.subplots()\n",
    "ax.scatter(out[:, 0], out[:, 1], c = tf_new, edgecolor = 'none', alpha = 0.5, cmap=plt.cm.get_cmap('Spectral', 10))\n",
    "# ax.set_xlim(-0.05,0.05)"
   ]
  },
  {
   "cell_type": "code",
   "execution_count": 456,
   "id": "ed8a186c",
   "metadata": {},
   "outputs": [
    {
     "data": {
      "text/plain": [
       "(-0.0186281492389388,\n",
       " 0.02766611179824321,\n",
       " -0.0024872097103855765,\n",
       " 0.009798031413824085)"
      ]
     },
     "execution_count": 456,
     "metadata": {},
     "output_type": "execute_result"
    },
    {
     "data": {
      "image/png": "[encoded data removed]",
      "text/plain": [
       "<Figure size 432x288 with 1 Axes>"
      ]
     },
     "metadata": {
      "needs_background": "light"
     },
     "output_type": "display_data"
    }
   ],
   "source": [
    "from sklearn.manifold import Isomap\n",
    "model = Isomap(n_components=2)\n",
    "outS = model.fit_transform(data_new) # 100 x 2, reduces dimension of days\n",
    "plt.scatter(outS[:, 0], outS[:, 1], c = tf_new, edgecolor = 'none', alpha = 0.5, cmap=plt.cm.get_cmap('Spectral', 10))\n",
    "plt.axis('equal')\n",
    "# plt.xlim(-50,50)\n",
    "# plt.ylim(-50,50)"
   ]
  },
  {
   "cell_type": "code",
   "execution_count": null,
   "id": "e085b411",
   "metadata": {},
   "outputs": [],
   "source": []
  }
 ],
 "metadata": {
  "kernelspec": {
   "display_name": "Python 3 (ipykernel)",
   "language": "python",
   "name": "python3"
  },
  "language_info": {
   "codemirror_mode": {
    "name": "ipython",
    "version": 3
   },
   "file_extension": ".py",
   "mimetype": "text/x-python",
   "name": "python",
   "nbconvert_exporter": "python",
   "pygments_lexer": "ipython3",
   "version": "3.9.12"
  }
 },
 "nbformat": 4,
 "nbformat_minor": 5
}
